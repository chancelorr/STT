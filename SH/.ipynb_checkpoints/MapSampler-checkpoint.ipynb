{
 "cells": [
  {
   "cell_type": "code",
   "execution_count": 4,
   "id": "733a6968",
   "metadata": {},
   "outputs": [],
   "source": [
    "import numpy as np\n",
    "import numpy as np\n",
    "import numpy.linalg as la\n",
    "import matplotlib.pyplot as plt\n",
    "import scipy.stats as st\n",
    "from mpl_toolkits import mplot3d\n",
    "\n",
    "import pyshtools as sh"
   ]
  },
  {
   "cell_type": "code",
   "execution_count": 2,
   "id": "05112998",
   "metadata": {},
   "outputs": [],
   "source": [
    "pts = np.genfromtxt('llTessel')\n",
    "lat = pts[:, 0]\n",
    "lon = pts[:, 1]"
   ]
  },
  {
   "cell_type": "code",
   "execution_count": 3,
   "id": "85a3ff35",
   "metadata": {},
   "outputs": [],
   "source": [
    "# get igrf from shtools\n",
    "# sample those points on the grid\n",
    "# try to convert back and forth"
   ]
  },
  {
   "cell_type": "code",
   "execution_count": null,
   "id": "d8c17c01",
   "metadata": {},
   "outputs": [],
   "source": [
    "igrf = sh.SHMagCoeffs('')"
   ]
  }
 ],
 "metadata": {
  "kernelspec": {
   "display_name": "Python 3 (ipykernel)",
   "language": "python",
   "name": "python3"
  },
  "language_info": {
   "codemirror_mode": {
    "name": "ipython",
    "version": 3
   },
   "file_extension": ".py",
   "mimetype": "text/x-python",
   "name": "python",
   "nbconvert_exporter": "python",
   "pygments_lexer": "ipython3",
   "version": "3.9.10"
  }
 },
 "nbformat": 4,
 "nbformat_minor": 5
}
